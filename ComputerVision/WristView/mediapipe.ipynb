{
 "cells": [
  {
   "cell_type": "code",
   "execution_count": 1,
   "id": "c7cd19d2-6d38-46f7-96e1-8077d18ce728",
   "metadata": {},
   "outputs": [],
   "source": [
    "import os\n",
    "import cv2\n",
    "import mediapipe as mp"
   ]
  },
  {
   "cell_type": "code",
   "execution_count": 11,
   "id": "ba692eeb-6006-483b-ba01-884efba387e1",
   "metadata": {
    "tags": []
   },
   "outputs": [],
   "source": [
    "# Create a MediaPipe Hands object\n",
    "mp_hands = mp.solutions.hands.Hands(static_image_mode=False, max_num_hands=1, min_detection_confidence=0.2, min_tracking_confidence=0.2)\n",
    "\n",
    "# Define the input video file name and path\n",
    "in_filename = 'in_videos/RC_0049-00_result.mp4'\n",
    "\n",
    "# Define the output folder\n",
    "out_folder = 'out_videos_mediapipe/'\n",
    "\n",
    "# Read the video file\n",
    "cap = cv2.VideoCapture(in_filename)\n",
    "\n",
    "# Get the video properties\n",
    "fps = int(cap.get(cv2.CAP_PROP_FPS))\n",
    "width = int(cap.get(cv2.CAP_PROP_FRAME_WIDTH))\n",
    "height = int(cap.get(cv2.CAP_PROP_FRAME_HEIGHT))\n",
    "\n",
    "# Create a VideoWriter object for the output video\n",
    "fourcc = cv2.VideoWriter_fourcc(*'mp4v')\n",
    "out_filename = os.path.splitext(os.path.basename(in_filename))[0] + '_out.mp4'\n",
    "out_path = os.path.join(out_folder, out_filename)\n",
    "out = cv2.VideoWriter(out_path, fourcc, fps, (width, height))\n",
    "\n",
    "# Loop through each frame in the video\n",
    "while cap.isOpened():\n",
    "    ret, frame = cap.read()\n",
    "\n",
    "    if not ret:\n",
    "        break\n",
    "\n",
    "    # Convert the frame to RGB format\n",
    "    frame = cv2.cvtColor(frame, cv2.COLOR_BGR2RGB)\n",
    "\n",
    "    # Process the frame with MediaPipe Hands\n",
    "    results = mp_hands.process(frame)\n",
    "\n",
    "    # Draw the hand landmarks and connections on the frame\n",
    "    if results.multi_hand_landmarks:\n",
    "        for hand_landmarks in results.multi_hand_landmarks:\n",
    "            mp.solutions.drawing_utils.draw_landmarks(\n",
    "                frame, hand_landmarks, mp.solutions.hands.HAND_CONNECTIONS,\n",
    "                mp.solutions.drawing_utils.DrawingSpec(color=(255, 0, 0), thickness=2, circle_radius=2),\n",
    "                mp.solutions.drawing_utils.DrawingSpec(color=(0, 255, 0), thickness=2, circle_radius=2)\n",
    "            )\n",
    "\n",
    "    # Convert the frame back to BGR format\n",
    "    frame = cv2.cvtColor(frame, cv2.COLOR_RGB2BGR)\n",
    "\n",
    "    # Write the processed frame to the output video\n",
    "    out.write(frame)\n",
    "\n",
    "# Release the input and output video objects\n",
    "cap.release()\n",
    "out.release()\n",
    "\n",
    "# Close the MediaPipe Hands object\n",
    "mp_hands.close()\n"
   ]
  },
  {
   "cell_type": "code",
   "execution_count": null,
   "id": "dc7281d4-e1b8-47ed-bf75-7a0069613c52",
   "metadata": {},
   "outputs": [],
   "source": []
  }
 ],
 "metadata": {
  "kernelspec": {
   "display_name": "condagpu",
   "language": "python",
   "name": "condagpu"
  },
  "language_info": {
   "codemirror_mode": {
    "name": "ipython",
    "version": 3
   },
   "file_extension": ".py",
   "mimetype": "text/x-python",
   "name": "python",
   "nbconvert_exporter": "python",
   "pygments_lexer": "ipython3",
   "version": "3.7.12"
  }
 },
 "nbformat": 4,
 "nbformat_minor": 5
}
