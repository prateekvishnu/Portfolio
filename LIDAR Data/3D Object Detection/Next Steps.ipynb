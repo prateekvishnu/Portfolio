{
 "cells": [
  {
   "cell_type": "code",
   "execution_count": null,
   "id": "d45c7a0e-1986-43b8-a76d-795076cebb1f",
   "metadata": {},
   "outputs": [],
   "source": [
    "Try https://github.com/gkadusumilli/Voxelnet/tree/master"
   ]
  }
 ],
 "metadata": {
  "kernelspec": {
   "display_name": "autonomous",
   "language": "python",
   "name": "autonomous"
  },
  "language_info": {
   "codemirror_mode": {
    "name": "ipython",
    "version": 3
   },
   "file_extension": ".py",
   "mimetype": "text/x-python",
   "name": "python",
   "nbconvert_exporter": "python",
   "pygments_lexer": "ipython3",
   "version": "3.9.16"
  }
 },
 "nbformat": 4,
 "nbformat_minor": 5
}
