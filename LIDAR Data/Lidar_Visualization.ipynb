{
 "cells": [
  {
   "cell_type": "markdown",
   "id": "82e755dc-efe7-4110-836f-e226cbbac7b6",
   "metadata": {},
   "source": [
    "# LiDAR dataset\n",
    "I am using OpenTopography for Peoria, AZ \n",
    "- https://medium.com/spatial-data-science/what-is-lidar-point-cloud-data-a547ed29edf5"
   ]
  },
  {
   "cell_type": "code",
   "execution_count": 1,
   "id": "8b6963d3-c05b-4b79-b43b-94f587bb5f06",
   "metadata": {
    "tags": []
   },
   "outputs": [
    {
     "name": "stdout",
     "output_type": "stream",
     "text": [
      "Jupyter environment detected. Enabling Open3D WebVisualizer.\n",
      "[Open3D INFO] WebRTC GUI backend enabled.\n",
      "[Open3D INFO] WebRTCWindowSystem: HTTP handshake server disabled.\n"
     ]
    }
   ],
   "source": [
    "import laspy\n",
    "import open3d as o3d\n",
    "import numpy as np"
   ]
  },
  {
   "cell_type": "markdown",
   "id": "a75a31fd-9d4a-4445-a3fc-500c160a56b0",
   "metadata": {},
   "source": [
    "# Loading and Exploring Data"
   ]
  },
  {
   "cell_type": "code",
   "execution_count": 2,
   "id": "cbbdefaa-38a2-4729-9f13-c93b68aaa784",
   "metadata": {
    "tags": []
   },
   "outputs": [],
   "source": [
    "# import lidar .las data and assign to variable\n",
    "las = laspy.read(\"data/points.las\")"
   ]
  },
  {
   "cell_type": "code",
   "execution_count": 3,
   "id": "f04a4094-2fd9-4f6a-915f-b2542ad404d0",
   "metadata": {
    "tags": []
   },
   "outputs": [
    {
     "data": {
      "text/plain": [
       "<LasData(1.0, point fmt: <PointFormat(1, 0 bytes of extra dims)>, 156545175 points, 3 vlrs)>"
      ]
     },
     "execution_count": 3,
     "metadata": {},
     "output_type": "execute_result"
    }
   ],
   "source": [
    "las"
   ]
  },
  {
   "cell_type": "code",
   "execution_count": 4,
   "id": "a7b9c754-a018-46d3-930e-31bb3650d4dd",
   "metadata": {
    "tags": []
   },
   "outputs": [
    {
     "data": {
      "text/plain": [
       "[<GeoKeyDirectoryVlr(11 geo_keys)>, <GeoAsciiParamsVlr(['NAD83 / UTM zone 12N + VERT_CS|NAD83|NAVD88 height|'])>, <VLR(user_id: 'liblas', record_id: '2112', data len: 951)>]"
      ]
     },
     "execution_count": 4,
     "metadata": {},
     "output_type": "execute_result"
    }
   ],
   "source": [
    "las.header\n",
    "las.header.point_format\n",
    "las.header.point_count\n",
    "las.vlrs"
   ]
  },
  {
   "cell_type": "code",
   "execution_count": 5,
   "id": "dc897a7d-f969-4aae-b946-4c3c13e23a91",
   "metadata": {
    "tags": []
   },
   "outputs": [
    {
     "data": {
      "text/plain": [
       "['X',\n",
       " 'Y',\n",
       " 'Z',\n",
       " 'intensity',\n",
       " 'return_number',\n",
       " 'number_of_returns',\n",
       " 'scan_direction_flag',\n",
       " 'edge_of_flight_line',\n",
       " 'classification',\n",
       " 'synthetic',\n",
       " 'key_point',\n",
       " 'withheld',\n",
       " 'scan_angle_rank',\n",
       " 'user_data',\n",
       " 'point_source_id',\n",
       " 'gps_time']"
      ]
     },
     "execution_count": 5,
     "metadata": {},
     "output_type": "execute_result"
    }
   ],
   "source": [
    "# examine the available features for the lidar file we have read\n",
    "list(las.point_format.dimension_names)"
   ]
  },
  {
   "cell_type": "code",
   "execution_count": 6,
   "id": "41dd95c5-b812-4a68-a999-ecee108d2d8a",
   "metadata": {
    "tags": []
   },
   "outputs": [
    {
     "name": "stdout",
     "output_type": "stream",
     "text": [
      "X\n",
      "[36800000 36800000 36800001 ... 36904564 36904408 36904407]\n",
      "Intensity\n",
      "[37 47 48 ... 63 69 66]\n",
      "GPS time\n",
      "[491938.793022 491938.79303  491938.793038 ... 499842.311392 499842.333713\n",
      " 499842.333721]\n",
      "Key Point\n",
      "<SubFieldView([0 0 0 ... 0 0 0])>\n"
     ]
    }
   ],
   "source": [
    "print(\"X\")\n",
    "print(las.X)\n",
    "print(\"Intensity\")\n",
    "print(las.intensity)\n",
    "print(\"GPS time\")\n",
    "print(las.gps_time)\n",
    "print(\"Key Point\")\n",
    "print(las.key_point)"
   ]
  },
  {
   "cell_type": "code",
   "execution_count": 7,
   "id": "8420b796-60d1-40a2-af17-7b63fa560e5a",
   "metadata": {
    "tags": []
   },
   "outputs": [
    {
     "data": {
      "text/plain": [
       "{1, 2, 6}"
      ]
     },
     "execution_count": 7,
     "metadata": {},
     "output_type": "execute_result"
    }
   ],
   "source": [
    "set(list(las.classification))"
   ]
  },
  {
   "cell_type": "markdown",
   "id": "7c609d29-5860-41c1-a5c2-138dfdb28a29",
   "metadata": {},
   "source": [
    "Class Labels\n",
    "- 1 = Unassigned\n",
    "- 2 = Ground\n",
    "- 5 = High Vegetation\n",
    "- 6 = Building"
   ]
  },
  {
   "cell_type": "markdown",
   "id": "dcadbf31-13db-4c77-9cb5-4e0cd6da2b06",
   "metadata": {},
   "source": [
    "# Creating, Filtering, and Writing Point Cloud Data"
   ]
  },
  {
   "cell_type": "code",
   "execution_count": 8,
   "id": "d9ca3a18-0472-40ed-90d2-d46021c0a883",
   "metadata": {
    "tags": []
   },
   "outputs": [
    {
     "data": {
      "text/plain": [
       "(156545175, 3)"
      ]
     },
     "execution_count": 8,
     "metadata": {},
     "output_type": "execute_result"
    }
   ],
   "source": [
    "# To create 3D point cloud data, we can stack together with the X, Y, and Z dimensions, using Numpy like this.\n",
    "# point_data = np.stack([las.X, las.Y, las.Z], axis=0).transpose((1, 0))\n",
    "point_data = np.vstack((las.X, las.Y, las.Z)).transpose()\n",
    "\n",
    "point_data.shape"
   ]
  },
  {
   "cell_type": "code",
   "execution_count": 9,
   "id": "580dda3f-9806-4a16-9a10-8c91f9c1a300",
   "metadata": {
    "tags": []
   },
   "outputs": [
    {
     "data": {
      "text/plain": [
       "Version(major=1, minor=0)"
      ]
     },
     "execution_count": 9,
     "metadata": {},
     "output_type": "execute_result"
    }
   ],
   "source": [
    "las.header.version"
   ]
  },
  {
   "cell_type": "code",
   "execution_count": 10,
   "id": "b7ecc698-5569-4dea-973c-16cca1745b58",
   "metadata": {
    "tags": []
   },
   "outputs": [],
   "source": [
    "buildings = laspy.create(point_format=las.header.point_format)\n",
    "buildings.points = las.points[las.classification == 6]"
   ]
  },
  {
   "cell_type": "code",
   "execution_count": 11,
   "id": "3a7d2a34-1943-46cb-8926-b4b7caefb342",
   "metadata": {
    "tags": []
   },
   "outputs": [],
   "source": [
    "buildings.write('buildings.las')"
   ]
  },
  {
   "cell_type": "markdown",
   "id": "2d25480c-a8b5-4e4f-96aa-15146f206617",
   "metadata": {},
   "source": [
    "# 3D Point Cloud Visualization"
   ]
  },
  {
   "cell_type": "code",
   "execution_count": 12,
   "id": "9092fff5-603e-4c04-a0ee-c0e6c89d67e4",
   "metadata": {
    "tags": []
   },
   "outputs": [
    {
     "ename": "AttributeError",
     "evalue": "'open3d.cuda.pybind.utility.Vector3dVector' object has no attribute 'voxel_down_sample'",
     "output_type": "error",
     "traceback": [
      "\u001b[0;31m---------------------------------------------------------------------------\u001b[0m",
      "\u001b[0;31mAttributeError\u001b[0m                            Traceback (most recent call last)",
      "Cell \u001b[0;32mIn[12], line 4\u001b[0m\n\u001b[1;32m      2\u001b[0m geom \u001b[38;5;241m=\u001b[39m o3d\u001b[38;5;241m.\u001b[39mgeometry\u001b[38;5;241m.\u001b[39mPointCloud()\n\u001b[1;32m      3\u001b[0m geom\u001b[38;5;241m.\u001b[39mpoints \u001b[38;5;241m=\u001b[39m o3d\u001b[38;5;241m.\u001b[39mutility\u001b[38;5;241m.\u001b[39mVector3dVector(point_data)\n\u001b[0;32m----> 4\u001b[0m voxel_pcd \u001b[38;5;241m=\u001b[39m \u001b[43mgeom\u001b[49m\u001b[38;5;241;43m.\u001b[39;49m\u001b[43mpoints\u001b[49m\u001b[43m \u001b[49m\u001b[38;5;241;43m.\u001b[39;49m\u001b[43mvoxel_down_sample\u001b[49m(voxel_size\u001b[38;5;241m=\u001b[39m\u001b[38;5;241m0.1\u001b[39m)\n\u001b[1;32m      5\u001b[0m o3d\u001b[38;5;241m.\u001b[39mvisualization\u001b[38;5;241m.\u001b[39mdraw_geometries([geom])\n",
      "\u001b[0;31mAttributeError\u001b[0m: 'open3d.cuda.pybind.utility.Vector3dVector' object has no attribute 'voxel_down_sample'"
     ]
    }
   ],
   "source": [
    "# Laspy has no visualization methods so that we will use the open3d library. We first create the open3D geometries and pass the point data we have created earlier. Finally, we use the open3d visualization to draw geometries.\n",
    "geom = o3d.geometry.PointCloud()\n",
    "geom.points = o3d.utility.Vector3dVector(point_data)\n",
    "voxel_pcd = geom.points .voxel_down_sample(voxel_size=0.1)\n",
    "o3d.visualization.draw_geometries([geom])"
   ]
  }
 ],
 "metadata": {
  "kernelspec": {
   "display_name": "autonomous",
   "language": "python",
   "name": "autonomous"
  },
  "language_info": {
   "codemirror_mode": {
    "name": "ipython",
    "version": 3
   },
   "file_extension": ".py",
   "mimetype": "text/x-python",
   "name": "python",
   "nbconvert_exporter": "python",
   "pygments_lexer": "ipython3",
   "version": "3.9.16"
  }
 },
 "nbformat": 4,
 "nbformat_minor": 5
}
