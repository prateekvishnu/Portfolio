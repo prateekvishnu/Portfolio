{
 "cells": [
  {
   "cell_type": "code",
   "execution_count": 2,
   "id": "fbe4e846-86d3-4591-aef7-8f6128cc9892",
   "metadata": {
    "tags": []
   },
   "outputs": [],
   "source": [
    "import numpy as np\n",
    "import open3d as o3d\n",
    "import pandas as pd\n",
    "from matplotlib import pyplot as plt\n",
    "%matplotlib inline\n",
    "import laspy\n",
    "from IPython.display import Image"
   ]
  },
  {
   "cell_type": "code",
   "execution_count": 50,
   "id": "bc1be12f-9746-4f50-91a4-f3f2149de015",
   "metadata": {
    "tags": []
   },
   "outputs": [],
   "source": [
    "# data is las\n",
    "las = laspy.read(\"data/points2.las\")\n",
    "point_data = np.vstack((las.X, las.Y, las.Z)).transpose()\n",
    "pcd = o3d.geometry.PointCloud()\n",
    "pcd.points = o3d.utility.Vector3dVector(point_data)"
   ]
  },
  {
   "cell_type": "code",
   "execution_count": 51,
   "id": "1e1933c0-ae0c-460f-b972-da4056cae773",
   "metadata": {
    "tags": []
   },
   "outputs": [],
   "source": [
    "o3d.visualization.draw_geometries([pcd])"
   ]
  },
  {
   "cell_type": "code",
   "execution_count": 4,
   "id": "b3367728-4bd1-4e3f-bebb-e8cf4e1a043d",
   "metadata": {
    "tags": []
   },
   "outputs": [
    {
     "data": {
      "text/html": [
       "<img src=\"points2.png\" width=\"500\" height=\"300\"/>"
      ],
      "text/plain": [
       "<IPython.core.display.Image object>"
      ]
     },
     "execution_count": 4,
     "metadata": {},
     "output_type": "execute_result"
    }
   ],
   "source": [
    "Image(url=\"points2.png\", width=500, height=300)"
   ]
  },
  {
   "cell_type": "code",
   "execution_count": 83,
   "id": "58848b82-38d5-4d29-97c9-219b08b29a82",
   "metadata": {
    "tags": []
   },
   "outputs": [
    {
     "data": {
      "text/plain": [
       "True"
      ]
     },
     "execution_count": 83,
     "metadata": {},
     "output_type": "execute_result"
    }
   ],
   "source": [
    "# KITTI Dataset\n",
    "# Load binary point cloud\n",
    "bin_pcd = np.fromfile(\"data/007480.bin\", dtype=np.float32)\n",
    "\n",
    "# Reshape and drop reflection values\n",
    "points = bin_pcd.reshape((-1, 4))[:, 0:3]\n",
    "\n",
    "# Convert to Open3D point cloud\n",
    "o3d_pcd = o3d.geometry.PointCloud(o3d.utility.Vector3dVector(points))\n",
    "\n",
    "# Save to whatever format you like\n",
    "o3d.io.write_point_cloud(\"data/007480.pcd\", o3d_pcd)"
   ]
  },
  {
   "cell_type": "code",
   "execution_count": 93,
   "id": "158be055-d885-4532-929a-0032ef136362",
   "metadata": {
    "tags": []
   },
   "outputs": [],
   "source": [
    "pcd = o3d.io.read_point_cloud(\"data/007480.pcd\")"
   ]
  },
  {
   "cell_type": "code",
   "execution_count": 94,
   "id": "43093884-3172-4e60-b229-ebc1c1502352",
   "metadata": {
    "tags": []
   },
   "outputs": [
    {
     "name": "stdout",
     "output_type": "stream",
     "text": [
      "[[[67.82900238 13.75300026  2.54900002]\n",
      "  [76.86000061 15.84000015  2.86299992]\n",
      "  [67.38500214 13.99400043  2.53600001]\n",
      "  ...\n",
      "  [ 3.79399991 -1.42900002 -1.77499998]\n",
      "  [ 4.04500008 -1.50999999 -1.89699996]\n",
      "  [ 3.81500006 -1.40900004 -1.77999997]]]\n"
     ]
    }
   ],
   "source": [
    "print(np.asarray([pcd.points]))"
   ]
  },
  {
   "cell_type": "code",
   "execution_count": 95,
   "id": "1e626f2c-43dd-4f4b-a0e8-5a86ae6bdc50",
   "metadata": {
    "tags": []
   },
   "outputs": [
    {
     "name": "stdout",
     "output_type": "stream",
     "text": [
      "Points before downsampling: 110736 \n",
      "Points after downsampling: 553\n",
      "Points after downsampling: 554\n",
      "Points after downsampling: 55288\n"
     ]
    }
   ],
   "source": [
    "# CHALLENGE 2 - VOXEL GRID DOWNSAMPLING \n",
    "\n",
    "print(f\"Points before downsampling: {len(pcd.points)} \") \n",
    "# Random down-sampling:\n",
    "random_pcd = pcd.random_down_sample(sampling_ratio=0.005)\n",
    "\n",
    "# Uniform down-sampling:\n",
    "uniform_pcd = pcd.uniform_down_sample(every_k_points=200)\n",
    "\n",
    "# Voxel down-sampling:\n",
    "voxel_pcd = pcd.voxel_down_sample(voxel_size=0.1)\n",
    "\n",
    "print(f\"Points after downsampling: {len(random_pcd.points)}\")\n",
    "print(f\"Points after downsampling: {len(uniform_pcd.points)}\")\n",
    "print(f\"Points after downsampling: {len(voxel_pcd.points)}\")\n",
    "\n",
    "# DOWNSAMPLING \n",
    "# o3d.visualization.draw_geometries((downpcd)) "
   ]
  },
  {
   "cell_type": "code",
   "execution_count": 96,
   "id": "c428de64-972a-440d-9a75-179b0f793967",
   "metadata": {
    "tags": []
   },
   "outputs": [],
   "source": [
    "#CHALLENGE 3 - SEGMENTATION\n",
    "\n",
    "# Perform plane segmentation on the point cloud 'pcd' using the PCL library\n",
    "# Random Sample Consensus (RANSAC) algorithm to estimate a plane model within the point cloud.\n",
    "_, inliers = pcd.segment_plane(distance_threshold=0.3, ransac_n=3, num_iterations=250)\n",
    "\n",
    "# Extract the inlier points from the original point cloud 'pcd'\n",
    "inlier_cloud = pcd.select_by_index(inliers)\n",
    "\n",
    "# Select the outlier points by inverting the inlier indices\n",
    "outlier_cloud = pcd.select_by_index(inliers, invert=True)\n",
    "\n",
    "# Color the inlier points red\n",
    "inlier_cloud.paint_uniform_color([1, 0, 0])\n",
    "\n",
    "# Color the outlier points blue\n",
    "outlier_cloud.paint_uniform_color([0, 0, 1])\n",
    "\n",
    "# Visualize the inlier and outlier point clouds\n",
    "o3d.visualization.draw_geometries([inlier_cloud, outlier_cloud])"
   ]
  },
  {
   "cell_type": "code",
   "execution_count": 97,
   "id": "0384c93a-3d41-41b4-8e84-c5cd947563e0",
   "metadata": {
    "tags": []
   },
   "outputs": [
    {
     "name": "stdout",
     "output_type": "stream",
     "text": [
      "[Open3D DEBUG] Precompute neighbors.\n",
      "Precompute neighbors.[================>                       ] 37%                                    ] 5%\n",
      "[Open3D DEBUG] Compute Clusters\n",
      "Precompute neighbors.[========[Open3D DEBUG] Done Compute Clusters: 466\n",
      "point cloud has 466 clusters\n",
      "Precompute neighbors.[========================================] 100%\n",
      "Clustering[======================================> ] 95%\r"
     ]
    }
   ],
   "source": [
    "# CHALLENGE 4 - CLUSTERING USING DBSCAN \n",
    "# Perform DBSCAN clustering on the outlier point cloud 'outlier_cloud'\n",
    "with o3d.utility.VerbosityContextManager(o3d.utility.VerbosityLevel.Debug) as cm: \n",
    "    labels = np.array(outlier_cloud.cluster_dbscan(eps=0.5, min_points=5, print_progress=True)) \n",
    "\n",
    "# Determine the maximum label value (number of clusters)\n",
    "max_label = labels.max() \n",
    "\n",
    "# Print the number of clusters in the point cloud\n",
    "print(f\"point cloud has {max_label + 1} clusters\") \n",
    "\n",
    "# Assign colors to the points based on the cluster labels\n",
    "colors = plt.get_cmap(\"tab20\")(labels / (max_label if max_label > 0 else 1)) \n",
    "\n",
    "# Set color to 0 (black) for points labeled as noise (-1)\n",
    "colors[labels < 0] = 0 \n",
    "\n",
    "# Assign colors to the outlier points in the point cloud\n",
    "outlier_cloud.colors = o3d.utility.Vector3dVector(colors[:, :3]) \n",
    "\n",
    "# Visualize the point cloud with colored clusters\n",
    "o3d.visualization.draw_geometries([outlier_cloud])"
   ]
  },
  {
   "cell_type": "code",
   "execution_count": 98,
   "id": "073ff162-cbb2-49bd-badf-f10345442541",
   "metadata": {
    "tags": []
   },
   "outputs": [
    {
     "name": "stdout",
     "output_type": "stream",
     "text": [
      "Paint the 15th point red.\n",
      "Find its 20 nearest neighbors, paint blue.\n"
     ]
    }
   ],
   "source": [
    "# BONUS CHALLENGE - CLUSTERING USING KDTREE AND KNN INSTEAD\n",
    "# Create a KDTree from the outlier point cloud 'outlier_cloud'\n",
    "pcd_tree = o3d.geometry.KDTreeFlann(outlier_cloud)\n",
    "\n",
    "# Paint the 15th point in the outlier cloud red\n",
    "print(\"Paint the 15th point red.\")\n",
    "outlier_cloud.colors[15] = [1, 0, 0]\n",
    "\n",
    "# Find the 20 nearest neighbors of the 15th point and paint them blue\n",
    "print(\"Find its 20 nearest neighbors, paint blue.\")\n",
    "[k, idx, _] = pcd_tree.search_knn_vector_3d(outlier_cloud.points[15], 20)\n",
    "np.asarray(outlier_cloud.colors)[idx[1:], :] = [0, 0, 1]\n",
    "\n",
    "# Visualize the outlier point cloud with colored points\n",
    "o3d.visualization.draw_geometries([outlier_cloud])"
   ]
  },
  {
   "cell_type": "code",
   "execution_count": 99,
   "id": "46e4e0b6-b3c2-4ac2-a9af-5d3e19c301cd",
   "metadata": {
    "tags": []
   },
   "outputs": [],
   "source": [
    "# CHALLENGE 5 - BOUNDING BOXES IN 3D\n",
    "\n",
    "# Initialize an empty list to store the oriented bounding boxes (OBBs)\n",
    "obbs = []\n",
    "\n",
    "# Group the indices based on the cluster labels\n",
    "indexes = pd.Series(range(len(labels))).groupby(labels, sort=False).apply(list).tolist()"
   ]
  },
  {
   "cell_type": "code",
   "execution_count": 100,
   "id": "f8e1b3aa-2b81-456c-8a15-9731d7799048",
   "metadata": {
    "tags": []
   },
   "outputs": [],
   "source": [
    "Max_Points = 1000\n",
    "Min_Points = 20\n",
    "clusters = []\n",
    "\n",
    "# Iterate through the grouped indices\n",
    "for i in range(0, len(indexes)):\n",
    "    # Get the number of points in the current cluster\n",
    "    nb_pts = len(outlier_cloud.select_by_index(indexes[i]).points)\n",
    "    \n",
    "    # Check if the number of points falls within the desired range\n",
    "    if nb_pts > Min_Points and nb_pts < Max_Points:\n",
    "        # Select the points corresponding to the current cluster\n",
    "        sub_cloud = outlier_cloud.select_by_index(indexes[i])\n",
    "        \n",
    "        # Compute the axis-aligned bounding box (AABB) for the cluster\n",
    "        obb = sub_cloud.get_axis_aligned_bounding_box()\n",
    "        \n",
    "        # Set the color of the bounding box to blue\n",
    "        obb.color = (0, 0, 1)\n",
    "        \n",
    "        # Append the bounding box to the list of OBBs\n",
    "        obbs.append(obb)"
   ]
  },
  {
   "cell_type": "code",
   "execution_count": 101,
   "id": "2c08125b-9e65-4637-b5df-2d928095d65f",
   "metadata": {},
   "outputs": [],
   "source": [
    "list_of_visuals = []\n",
    "list_of_visuals.append(outlier_cloud)\n",
    "list_of_visuals.extend(obbs)\n",
    "list_of_visuals.append(inlier_cloud)\n",
    "o3d.visualization.draw_geometries(list_of_visuals)"
   ]
  },
  {
   "cell_type": "code",
   "execution_count": 5,
   "id": "326b0911-5b49-4263-9c51-61cd9eef723b",
   "metadata": {
    "tags": []
   },
   "outputs": [
    {
     "data": {
      "text/html": [
       "<img src=\"objectdetection.png\" width=\"500\" height=\"300\"/>"
      ],
      "text/plain": [
       "<IPython.core.display.Image object>"
      ]
     },
     "execution_count": 5,
     "metadata": {},
     "output_type": "execute_result"
    }
   ],
   "source": [
    "Image(url=\"objectdetection.png\", width=500, height=300)"
   ]
  }
 ],
 "metadata": {
  "kernelspec": {
   "display_name": "akida_env",
   "language": "python",
   "name": "akida_env"
  },
  "language_info": {
   "codemirror_mode": {
    "name": "ipython",
    "version": 3
   },
   "file_extension": ".py",
   "mimetype": "text/x-python",
   "name": "python",
   "nbconvert_exporter": "python",
   "pygments_lexer": "ipython3",
   "version": "3.7.12"
  }
 },
 "nbformat": 4,
 "nbformat_minor": 5
}
