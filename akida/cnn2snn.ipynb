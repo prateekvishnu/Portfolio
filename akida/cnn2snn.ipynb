{
 "cells": [
  {
   "cell_type": "code",
   "execution_count": 1,
   "id": "8e9fd08c-6225-40e7-a47b-d3fcef4f1d56",
   "metadata": {},
   "outputs": [],
   "source": [
    "import tensorflow as tf"
   ]
  },
  {
   "cell_type": "code",
   "execution_count": 2,
   "id": "277b3721-5657-41f2-b343-e66e656f49aa",
   "metadata": {},
   "outputs": [
    {
     "name": "stderr",
     "output_type": "stream",
     "text": [
      "2023-05-03 17:21:12.864383: W tensorflow/stream_executor/platform/default/dso_loader.cc:64] Could not load dynamic library 'libcudnn.so.8'; dlerror: libcudnn.so.8: cannot open shared object file: No such file or directory; LD_LIBRARY_PATH: /packages/7x/jupyter/2022-04-15/lib\n"
     ]
    },
    {
     "data": {
      "text/plain": [
       "[]"
      ]
     },
     "execution_count": 2,
     "metadata": {},
     "output_type": "execute_result"
    },
    {
     "name": "stderr",
     "output_type": "stream",
     "text": [
      "2023-05-03 17:21:12.864422: W tensorflow/core/common_runtime/gpu/gpu_device.cc:1850] Cannot dlopen some GPU libraries. Please make sure the missing libraries mentioned above are installed properly if you would like to use GPU. Follow the guide at https://www.tensorflow.org/install/gpu for how to download and setup the required libraries for your platform.\n",
      "Skipping registering GPU devices...\n"
     ]
    }
   ],
   "source": [
    "tf.config.list_physical_devices('GPU')"
   ]
  },
  {
   "cell_type": "code",
   "execution_count": 3,
   "id": "9ddfdad8-bf7d-4cee-8e6d-7ca5bd25b605",
   "metadata": {},
   "outputs": [
    {
     "name": "stdout",
     "output_type": "stream",
     "text": [
      "Num GPUs Available:  0\n"
     ]
    }
   ],
   "source": [
    "print(\"Num GPUs Available: \", len(tf.config.list_physical_devices('GPU')))\n"
   ]
  },
  {
   "cell_type": "code",
   "execution_count": 4,
   "id": "0acd11e3-8913-462f-9607-7e859c259b53",
   "metadata": {},
   "outputs": [
    {
     "name": "stdout",
     "output_type": "stream",
     "text": [
      "Downloading data from https://storage.googleapis.com/tensorflow/tf-keras-datasets/mnist.npz\n",
      "11493376/11490434 [==============================] - 0s 0us/step\n",
      "11501568/11490434 [==============================] - 0s 0us/step\n"
     ]
    }
   ],
   "source": [
    "from tensorflow import keras\n",
    "\n",
    "# Load MNIST dataset\n",
    "(x_train, y_train), (x_test, y_test) = keras.datasets.mnist.load_data()\n",
    "\n",
    "# Reshape x-data\n",
    "x_train = x_train.reshape(60000, 28, 28, 1)\n",
    "x_test = x_test.reshape(10000, 28, 28, 1)\n",
    "\n",
    "# Set aside raw test data for use with Akida runtime later\n",
    "raw_x_test = x_test.astype('uint8')\n",
    "raw_y_test = y_test\n",
    "\n",
    "# Rescale x-data\n",
    "a = 255\n",
    "b = 0\n",
    "input_scaling = (a, b)\n",
    "x_train = x_train.astype('float32')\n",
    "x_test = x_test.astype('float32')\n",
    "x_train = (x_train - b) / a\n",
    "x_test = (x_test - b) / a"
   ]
  },
  {
   "cell_type": "code",
   "execution_count": 5,
   "id": "aa9c52ae-f14d-4ed5-a42d-667b27f9e0e7",
   "metadata": {},
   "outputs": [
    {
     "name": "stdout",
     "output_type": "stream",
     "text": [
      "Model: \"mnistnet\"\n",
      "_________________________________________________________________\n",
      " Layer (type)                Output Shape              Param #   \n",
      "=================================================================\n",
      " conv2d (Conv2D)             (None, 13, 13, 32)        320       \n",
      "                                                                 \n",
      " batch_normalization (BatchN  (None, 13, 13, 32)       128       \n",
      " ormalization)                                                   \n",
      "                                                                 \n",
      " re_lu (ReLU)                (None, 13, 13, 32)        0         \n",
      "                                                                 \n",
      " separable_conv2d (Separable  (None, 7, 7, 64)         2400      \n",
      " Conv2D)                                                         \n",
      "                                                                 \n",
      " batch_normalization_1 (Batc  (None, 7, 7, 64)         256       \n",
      " hNormalization)                                                 \n",
      "                                                                 \n",
      " re_lu_1 (ReLU)              (None, 7, 7, 64)          0         \n",
      "                                                                 \n",
      " flatten (Flatten)           (None, 3136)              0         \n",
      "                                                                 \n",
      " dense (Dense)               (None, 10)                31370     \n",
      "                                                                 \n",
      "=================================================================\n",
      "Total params: 34,474\n",
      "Trainable params: 34,282\n",
      "Non-trainable params: 192\n",
      "_________________________________________________________________\n"
     ]
    },
    {
     "name": "stderr",
     "output_type": "stream",
     "text": [
      "2023-05-03 17:21:14.557177: I tensorflow/core/platform/cpu_feature_guard.cc:151] This TensorFlow binary is optimized with oneAPI Deep Neural Network Library (oneDNN) to use the following CPU instructions in performance-critical operations:  AVX2 AVX512F FMA\n",
      "To enable them in other operations, rebuild TensorFlow with the appropriate compiler flags.\n"
     ]
    }
   ],
   "source": [
    "model_keras = keras.models.Sequential([\n",
    "    keras.layers.Conv2D(\n",
    "        filters=32, kernel_size=3, input_shape=(28, 28, 1), strides=2),\n",
    "    keras.layers.BatchNormalization(),\n",
    "    keras.layers.ReLU(),\n",
    "    keras.layers.SeparableConv2D(\n",
    "        filters=64, kernel_size=3, padding='same', strides=2),\n",
    "    keras.layers.BatchNormalization(),\n",
    "    keras.layers.ReLU(),\n",
    "    keras.layers.Flatten(),\n",
    "    keras.layers.Dense(10)\n",
    "], 'mnistnet')\n",
    "\n",
    "model_keras.summary()"
   ]
  },
  {
   "cell_type": "code",
   "execution_count": 6,
   "id": "8e23528d-6b75-4820-a7b0-c338e9ba45e4",
   "metadata": {},
   "outputs": [
    {
     "name": "stdout",
     "output_type": "stream",
     "text": [
      "Model compatible for Akida conversion: True\n"
     ]
    }
   ],
   "source": [
    "from cnn2snn import check_model_compatibility\n",
    "\n",
    "print(\"Model compatible for Akida conversion:\",\n",
    "      check_model_compatibility(model_keras))"
   ]
  },
  {
   "cell_type": "code",
   "execution_count": 7,
   "id": "432fe407-729a-48f3-a8f7-11c382e3e067",
   "metadata": {},
   "outputs": [
    {
     "name": "stdout",
     "output_type": "stream",
     "text": [
      "Epoch 1/10\n",
      "1688/1688 [==============================] - 8s 4ms/step - loss: 0.1665 - accuracy: 0.9491 - val_loss: 0.0822 - val_accuracy: 0.9765\n",
      "Epoch 2/10\n",
      "1688/1688 [==============================] - 7s 4ms/step - loss: 0.0678 - accuracy: 0.9794 - val_loss: 0.0750 - val_accuracy: 0.9787\n",
      "Epoch 3/10\n",
      "1688/1688 [==============================] - 7s 4ms/step - loss: 0.0496 - accuracy: 0.9843 - val_loss: 0.0550 - val_accuracy: 0.9870\n",
      "Epoch 4/10\n",
      "1688/1688 [==============================] - 7s 4ms/step - loss: 0.0407 - accuracy: 0.9869 - val_loss: 0.0587 - val_accuracy: 0.9865\n",
      "Epoch 5/10\n",
      "1688/1688 [==============================] - 7s 4ms/step - loss: 0.0326 - accuracy: 0.9889 - val_loss: 0.0578 - val_accuracy: 0.9848\n",
      "Epoch 6/10\n",
      "1688/1688 [==============================] - 7s 4ms/step - loss: 0.0268 - accuracy: 0.9915 - val_loss: 0.0645 - val_accuracy: 0.9845\n",
      "Epoch 7/10\n",
      "1688/1688 [==============================] - 7s 4ms/step - loss: 0.0246 - accuracy: 0.9916 - val_loss: 0.0965 - val_accuracy: 0.9765\n",
      "Epoch 8/10\n",
      "1688/1688 [==============================] - 7s 4ms/step - loss: 0.0203 - accuracy: 0.9928 - val_loss: 0.0755 - val_accuracy: 0.9812\n",
      "Epoch 9/10\n",
      "1688/1688 [==============================] - 7s 4ms/step - loss: 0.0167 - accuracy: 0.9941 - val_loss: 0.0591 - val_accuracy: 0.9868\n",
      "Epoch 10/10\n",
      "1688/1688 [==============================] - 7s 4ms/step - loss: 0.0154 - accuracy: 0.9949 - val_loss: 0.0551 - val_accuracy: 0.9880\n",
      "Test accuracy: 0.9854999780654907\n"
     ]
    }
   ],
   "source": [
    "model_keras.compile(\n",
    "    loss=keras.losses.SparseCategoricalCrossentropy(from_logits=True),\n",
    "    optimizer='adam',\n",
    "    metrics=['accuracy'])\n",
    "\n",
    "model_keras.fit(x_train, y_train, epochs=10, validation_split=0.1)\n",
    "\n",
    "score = model_keras.evaluate(x_test, y_test, verbose=0)\n",
    "print('Test accuracy:', score[1])"
   ]
  },
  {
   "cell_type": "code",
   "execution_count": 8,
   "id": "3196fbd6-c002-46e7-99c8-9f73c7ca9a27",
   "metadata": {},
   "outputs": [
    {
     "name": "stdout",
     "output_type": "stream",
     "text": [
      "Model: \"sequential_5\"\n",
      "_________________________________________________________________\n",
      " Layer (type)                Output Shape              Param #   \n",
      "=================================================================\n",
      " conv2d (QuantizedConv2D)    (None, 13, 13, 32)        320       \n",
      "                                                                 \n",
      " re_lu (QuantizedReLU)       (None, 13, 13, 32)        0         \n",
      "                                                                 \n",
      " separable_conv2d (Quantized  (None, 7, 7, 64)         2400      \n",
      " SeparableConv2D)                                                \n",
      "                                                                 \n",
      " re_lu_1 (QuantizedReLU)     (None, 7, 7, 64)          0         \n",
      "                                                                 \n",
      " flatten (Flatten)           (None, 3136)              0         \n",
      "                                                                 \n",
      " dense (QuantizedDense)      (None, 10)                31370     \n",
      "                                                                 \n",
      "=================================================================\n",
      "Total params: 34,090\n",
      "Trainable params: 34,090\n",
      "Non-trainable params: 0\n",
      "_________________________________________________________________\n"
     ]
    }
   ],
   "source": [
    "from cnn2snn import quantize\n",
    "\n",
    "model_quantized = quantize(model_keras,\n",
    "                           input_weight_quantization=8,\n",
    "                           weight_quantization=4,\n",
    "                           activ_quantization=4)\n",
    "model_quantized.summary()"
   ]
  },
  {
   "cell_type": "code",
   "execution_count": 9,
   "id": "17029540-3669-4262-bec0-92411476ed85",
   "metadata": {},
   "outputs": [
    {
     "name": "stdout",
     "output_type": "stream",
     "text": [
      "Test accuracy after 8-4-4 quantization: 0.7562999725341797\n"
     ]
    }
   ],
   "source": [
    "model_quantized.compile(\n",
    "    loss=keras.losses.SparseCategoricalCrossentropy(from_logits=True),\n",
    "    optimizer='adam',\n",
    "    metrics=['accuracy'])\n",
    "\n",
    "score = model_quantized.evaluate(x_test, y_test, verbose=0)\n",
    "print('Test accuracy after 8-4-4 quantization:', score[1])"
   ]
  },
  {
   "cell_type": "code",
   "execution_count": 10,
   "id": "d790ee80-a934-46be-a74d-7f4c28a833f4",
   "metadata": {},
   "outputs": [
    {
     "name": "stdout",
     "output_type": "stream",
     "text": [
      "Test accuracy after low bitwidth quantization: 0.11509999632835388\n"
     ]
    }
   ],
   "source": [
    "from cnn2snn import quantize_layer\n",
    "\n",
    "model_quantized = quantize_layer(model_quantized, \"re_lu_1\", bitwidth=1)\n",
    "model_quantized = quantize_layer(model_quantized, \"dense\", bitwidth=2)\n",
    "\n",
    "model_quantized.compile(\n",
    "    loss=keras.losses.SparseCategoricalCrossentropy(from_logits=True),\n",
    "    optimizer='adam',\n",
    "    metrics=['accuracy'])\n",
    "\n",
    "score = model_quantized.evaluate(x_test, y_test, verbose=0)\n",
    "print('Test accuracy after low bitwidth quantization:', score[1])\n",
    "\n",
    "# To recover the original model accuracy, a quantization-aware training phase is required."
   ]
  },
  {
   "cell_type": "code",
   "execution_count": 11,
   "id": "ee8e75f8-2285-4d03-9e19-7f2f085a62ac",
   "metadata": {},
   "outputs": [
    {
     "name": "stdout",
     "output_type": "stream",
     "text": [
      "Epoch 1/5\n",
      "1688/1688 [==============================] - 9s 5ms/step - loss: 1.0809 - accuracy: 0.8693 - val_loss: 0.7541 - val_accuracy: 0.9652\n",
      "Epoch 2/5\n",
      "1688/1688 [==============================] - 8s 5ms/step - loss: 0.6903 - accuracy: 0.9638 - val_loss: 0.6856 - val_accuracy: 0.9728\n",
      "Epoch 3/5\n",
      "1688/1688 [==============================] - 8s 5ms/step - loss: 0.6366 - accuracy: 0.9676 - val_loss: 0.7033 - val_accuracy: 0.9710\n",
      "Epoch 4/5\n",
      "1688/1688 [==============================] - 8s 5ms/step - loss: 0.6434 - accuracy: 0.9685 - val_loss: 0.9035 - val_accuracy: 0.9705\n",
      "Epoch 5/5\n",
      "1688/1688 [==============================] - 8s 5ms/step - loss: 0.5936 - accuracy: 0.9699 - val_loss: 0.8747 - val_accuracy: 0.9698\n",
      "Test accuracy after fine tuning: 0.9674999713897705\n"
     ]
    }
   ],
   "source": [
    "model_quantized.fit(x_train, y_train, epochs=5, validation_split=0.1)\n",
    "\n",
    "score = model_quantized.evaluate(x_test, y_test, verbose=0)\n",
    "print('Test accuracy after fine tuning:', score[1])"
   ]
  },
  {
   "cell_type": "code",
   "execution_count": 12,
   "id": "ea847313-9ea6-428f-86b2-0499e6da5972",
   "metadata": {},
   "outputs": [
    {
     "name": "stdout",
     "output_type": "stream",
     "text": [
      "                Model Summary                 \n",
      "______________________________________________\n",
      "Input shape  Output shape  Sequences  Layers\n",
      "==============================================\n",
      "[28, 28, 1]  [1, 1, 10]    1          3     \n",
      "______________________________________________\n",
      "\n",
      "                  SW/conv2d-dense (Software)                  \n",
      "______________________________________________________________\n",
      "Layer (type)                  Output shape  Kernel shape    \n",
      "==============================================================\n",
      "conv2d (InputConv.)           [13, 13, 32]  (3, 3, 1, 32)   \n",
      "______________________________________________________________\n",
      "separable_conv2d (Sep.Conv.)  [7, 7, 64]    (3, 3, 32, 1)   \n",
      "______________________________________________________________\n",
      "                                            (1, 1, 32, 64)  \n",
      "______________________________________________________________\n",
      "dense (Fully.)                [1, 1, 10]    (1, 1, 3136, 10)\n",
      "______________________________________________________________\n",
      "\n",
      "Test accuracy after conversion: 0.9681000113487244\n"
     ]
    }
   ],
   "source": [
    "from cnn2snn import convert\n",
    "\n",
    "model_akida = convert(model_quantized, input_scaling=input_scaling)\n",
    "model_akida.summary()\n",
    "\n",
    "accuracy = model_akida.evaluate(raw_x_test, raw_y_test)\n",
    "print('Test accuracy after conversion:', accuracy)\n",
    "\n",
    "# For non-regression purpose\n",
    "assert accuracy > 0.96"
   ]
  },
  {
   "cell_type": "code",
   "execution_count": null,
   "id": "e8351b43-bcad-4f42-b042-4b0a00d5fa0e",
   "metadata": {},
   "outputs": [],
   "source": []
  }
 ],
 "metadata": {
  "kernelspec": {
   "display_name": "akida_env",
   "language": "python",
   "name": "akida_env"
  },
  "language_info": {
   "codemirror_mode": {
    "name": "ipython",
    "version": 3
   },
   "file_extension": ".py",
   "mimetype": "text/x-python",
   "name": "python",
   "nbconvert_exporter": "python",
   "pygments_lexer": "ipython3",
   "version": "3.7.12"
  }
 },
 "nbformat": 4,
 "nbformat_minor": 5
}
